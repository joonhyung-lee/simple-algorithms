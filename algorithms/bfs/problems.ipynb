{
 "cells": [
  {
   "cell_type": "markdown",
   "metadata": {},
   "source": [
    "### 1. 날짜 계산\n",
    "\n",
    "준규가 사는 나라는 우리가 사용하는 연도와 다른 방식을 이용한다. 준규가 사는 나라에서는 수 3개를 이용해서 연도를 나타낸다. 각각의 수는 지구, 태양, 그리고 달을 나타낸다.\n",
    "\n",
    "지구를 나타내는 수를 E, 태양을 나타내는 수를 S, 달을 나타내는 수를 M이라고 했을 때, 이 세 수는 서로 다른 범위를 가진다. (1 ≤ E ≤ 15, 1 ≤ S ≤ 28, 1 ≤ M ≤ 19)\n",
    "\n",
    "우리가 알고있는 1년은 준규가 살고있는 나라에서는 1 1 1로 나타낼 수 있다. 1년이 지날 때마다, 세 수는 모두 1씩 증가한다. 만약, 어떤 수가 범위를 넘어가는 경우에는 1이 된다.\n",
    "\n",
    "예를 들어, 15년은 15 15 15로 나타낼 수 있다. 하지만, 1년이 지나서 16년이 되면 16 16 16이 아니라 1 16 16이 된다. 이유는 1 ≤ E ≤ 15 라서 범위를 넘어가기 때문이다.\n",
    "\n",
    "E, S, M이 주어졌고, 1년이 준규가 사는 나라에서 1 1 1일때, 준규가 사는 나라에서 E S M이 우리가 알고 있는 연도로 몇 년인지 구하는 프로그램을 작성하시오.\n",
    "\n",
    "입력: 첫째 줄에 세 수 E, S, M이 주어진다. 문제에 나와있는 범위를 지키는 입력만 주어진다.\n",
    "\n",
    "출력: 첫째 줄에 E S M으로 표시되는 가장 빠른 연도를 출력한다. 1 1 1은 항상 1이기 때문에, 정답이 음수가 나오는 경우는 없다."
   ]
  },
  {
   "cell_type": "code",
   "execution_count": 3,
   "metadata": {},
   "outputs": [
    {
     "name": "stdout",
     "output_type": "stream",
     "text": [
      "1489\n"
     ]
    }
   ],
   "source": [
    "def solve(e, s, m):\n",
    "    if not (1 <= e <= 15 and 1 <= s <= 28 and 1 <= m <= 19):\n",
    "        return None\n",
    "    \n",
    "    # 나머지 연산\n",
    "    e -= 1\n",
    "    s -= 1\n",
    "    m -= 1\n",
    "    \n",
    "    year = 1\n",
    "    while year <= 7980:  # 15*28*19\n",
    "        if (year-1) % 15 == e and (year-1) % 28 == s and (year-1) % 19 == m:\n",
    "            return year\n",
    "        year += 1\n",
    "    \n",
    "    return None\n",
    "\n",
    "e, s, m = map(int, input().split())\n",
    "result = solve(e, s, m)\n",
    "if result:\n",
    "    print(result)"
   ]
  },
  {
   "cell_type": "markdown",
   "metadata": {},
   "source": [
    "### 2. 리모컨\n",
    "\n",
    "수빈이는 TV를 보고 있다. 수빈이는 채널을 돌리려고 했지만, 버튼을 너무 세게 누르는 바람에, 일부 숫자 버튼이 고장났다.\n",
    "\n",
    "리모컨에는 버튼이 0부터 9까지 숫자, +와 -가 있다. +를 누르면 현재 보고있는 채널에서 +1된 채널로 이동하고, -를 누르면 -1된 채널로 이동한다. 채널 0에서 -를 누른 경우에는 채널이 변하지 않고, 채널은 무한대 만큼 있다.\n",
    "\n",
    "수빈이가 지금 이동하려고 하는 채널은 N이다. 어떤 버튼이 고장났는지 주어졌을 때, 채널 N으로 이동하기 위해서 버튼을 최소 몇 번 눌러야하는지 구하는 프로그램을 작성하시오.\n",
    "\n",
    "수빈이가 지금 보고 있는 채널은 100번이다.\n",
    "\n",
    "입력: 첫째 줄에 수빈이가 이동하려고 하는 채널 N (0 ≤ N ≤ 500,000)이 주어진다. 둘째 줄에는 고장난 버튼의 개수 M (0 ≤ M ≤ 10)이 주어진다. 고장난 버튼이 있는 경우에는 셋째 줄에는 고장난 버튼이 주어지며, 같은 버튼이 여러 번 주어지는 경우는 없다.\n",
    "\n",
    "출력: 첫째 줄에 채널 N으로 이동하기 위해 버튼을 최소 몇 번 눌러야 하는지를 출력한다."
   ]
  },
  {
   "cell_type": "code",
   "execution_count": 14,
   "metadata": {},
   "outputs": [
    {
     "name": "stdout",
     "output_type": "stream",
     "text": [
      "1\n"
     ]
    }
   ],
   "source": [
    "def is_broken(number, broken_buttons):\n",
    "    if number in broken_buttons:\n",
    "        return True\n",
    "    else:\n",
    "        return False\n",
    "\n",
    "def can_make_number(number, broken_buttons):\n",
    "    if number == 0:\n",
    "        if is_broken(0, broken_buttons):\n",
    "            return 0\n",
    "        else:\n",
    "            return 1\n",
    "    \n",
    "    count = 0 \n",
    "    temp = number\n",
    "    \n",
    "    while temp > 0:\n",
    "        digit = temp % 10\n",
    "        if is_broken(digit, broken_buttons):\n",
    "            return 0\n",
    "        count += 1\n",
    "        temp //= 10\n",
    "    return count\n",
    "\n",
    "def solve(target, broken_buttons):\n",
    "    if target == 100:\n",
    "        return 0\n",
    "        \n",
    "    min_count = abs(target - 100)\n",
    "    \n",
    "    for channel in range(1000001):\n",
    "        length = can_make_number(channel, broken_buttons)\n",
    "        \n",
    "        if length:\n",
    "            press = length + abs(target - channel)\n",
    "            min_count = min(min_count, press)\n",
    "    \n",
    "    return min_count\n",
    "\n",
    "# 입력\n",
    "N = int(input())\n",
    "M = int(input())\n",
    "broken = []\n",
    "if M > 0:\n",
    "    broken = list(map(int, input().split()))\n",
    "\n",
    "print(solve(N, broken))"
   ]
  },
  {
   "cell_type": "code",
   "execution_count": null,
   "metadata": {},
   "outputs": [],
   "source": []
  }
 ],
 "metadata": {
  "kernelspec": {
   "display_name": "atlo",
   "language": "python",
   "name": "python3"
  },
  "language_info": {
   "codemirror_mode": {
    "name": "ipython",
    "version": 3
   },
   "file_extension": ".py",
   "mimetype": "text/x-python",
   "name": "python",
   "nbconvert_exporter": "python",
   "pygments_lexer": "ipython3",
   "version": "3.10.5"
  }
 },
 "nbformat": 4,
 "nbformat_minor": 2
}
